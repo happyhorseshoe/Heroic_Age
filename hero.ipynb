{
 "cells": [
  {
   "cell_type": "markdown",
   "metadata": {},
   "source": [
    "Project Heroic Age or Heroic Population?\n",
    "The Carnegie Hero Fund was established in 1905 by Andrew Carnegie who said \"we live in a Heroic Age\". This project will examine if people are more willing to risk their life for a stranger if they live in a smaller population area. I chose the Carnegie Hero Fund for data because of its requirements and number of years available. The award is given 4 times a year to civilians who voluntarily risks life to an \"extraordinary degree\" and have \"no full measure of responsibility for the safety of the victim\". Part One will focuse on cleaning and analysis of the Carnegie Hero Fund data. Part Two will introduce population data from the Census Bureau. Part Three will summarize my finidings."
   ]
  }
 ],
 "metadata": {
  "kernelspec": {
   "display_name": "Python 3.10.1 64-bit",
   "language": "python",
   "name": "python3"
  },
  "language_info": {
   "name": "python",
   "version": "3.10.1"
  },
  "orig_nbformat": 4,
  "vscode": {
   "interpreter": {
    "hash": "13acd496c26912d0ecd63d9cfbc9e8cdea6e4f5a2c12f3dadc5926ed855e9811"
   }
  }
 },
 "nbformat": 4,
 "nbformat_minor": 2
}
