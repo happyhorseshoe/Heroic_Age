{
 "cells": [
  {
   "cell_type": "markdown",
   "metadata": {},
   "source": [
    "Project Heroic Age or Heroic Population?\n",
    "The Carnegie Hero Fund was established in 1905 by Andrew Carnegie who said \"we live in a Heroic Age\". This project will examine if people are more willing to risk their life for a stranger if they live in a smaller population area. I chose the Carnegie Hero Fund for data because of its requirements and number of years available. The award is given 4 times a year to civilians who voluntarily risks life to an \"extraordinary degree\" and have \"no full measure of responsibility for the safety of the victim\". Part One will focuse on cleaning and analysis of the Carnegie Hero Fund data. Part Two will introduce population data from the Census Bureau. Part Three will summarize my finidings."
   ]
  },
  {
   "cell_type": "code",
   "execution_count": 93,
   "metadata": {},
   "outputs": [],
   "source": [
    "import pandas as pd\n",
    "import requests"
   ]
  },
  {
   "cell_type": "markdown",
   "metadata": {},
   "source": [
    "Pay attention to the difference between importing an xlsx file vs a csv file. I had to pip install openpyxl in the terminal"
   ]
  },
  {
   "cell_type": "code",
   "execution_count": 94,
   "metadata": {},
   "outputs": [
    {
     "data": {
      "text/plain": [
       "ACTED        object\n",
       "LAST         object\n",
       "FIRST        object\n",
       "ACTSTATE     object\n",
       "ACTCODE      object\n",
       "CITY         object\n",
       "STRANGER     object\n",
       "DEATH        object\n",
       "COUNTY       object\n",
       "YEAR        float64\n",
       "dtype: object"
      ]
     },
     "execution_count": 94,
     "metadata": {},
     "output_type": "execute_result"
    }
   ],
   "source": [
    "df = pd.read_excel(\"C:\\\\Users\\\\emorr\\\\OneDrive\\\\Desktop\\\\CHM\\\\medal.xlsx\")\n",
    "df.dtypes"
   ]
  },
  {
   "cell_type": "code",
   "execution_count": 95,
   "metadata": {},
   "outputs": [
    {
     "data": {
      "text/html": [
       "<div>\n",
       "<style scoped>\n",
       "    .dataframe tbody tr th:only-of-type {\n",
       "        vertical-align: middle;\n",
       "    }\n",
       "\n",
       "    .dataframe tbody tr th {\n",
       "        vertical-align: top;\n",
       "    }\n",
       "\n",
       "    .dataframe thead th {\n",
       "        text-align: right;\n",
       "    }\n",
       "</style>\n",
       "<table border=\"1\" class=\"dataframe\">\n",
       "  <thead>\n",
       "    <tr style=\"text-align: right;\">\n",
       "      <th></th>\n",
       "      <th>ACTED</th>\n",
       "      <th>LAST</th>\n",
       "      <th>FIRST</th>\n",
       "      <th>ACTSTATE</th>\n",
       "      <th>ACTCODE</th>\n",
       "      <th>CITY</th>\n",
       "      <th>STRANGER</th>\n",
       "      <th>DEATH</th>\n",
       "      <th>COUNTY</th>\n",
       "      <th>YEAR</th>\n",
       "    </tr>\n",
       "  </thead>\n",
       "  <tbody>\n",
       "    <tr>\n",
       "      <th>0</th>\n",
       "      <td>5/6/2021</td>\n",
       "      <td>BAIR</td>\n",
       "      <td>BRANDON</td>\n",
       "      <td>ID</td>\n",
       "      <td>BV</td>\n",
       "      <td>NaN</td>\n",
       "      <td>NaN</td>\n",
       "      <td>NaN</td>\n",
       "      <td>NaN</td>\n",
       "      <td>2021.0</td>\n",
       "    </tr>\n",
       "    <tr>\n",
       "      <th>1</th>\n",
       "      <td>1/13/2022</td>\n",
       "      <td>THOMAS</td>\n",
       "      <td>ADAM LAYMAN</td>\n",
       "      <td>KY</td>\n",
       "      <td>DROWNING</td>\n",
       "      <td>NaN</td>\n",
       "      <td>NaN</td>\n",
       "      <td>NaN</td>\n",
       "      <td>NaN</td>\n",
       "      <td>2022.0</td>\n",
       "    </tr>\n",
       "    <tr>\n",
       "      <th>2</th>\n",
       "      <td>5/17/2021</td>\n",
       "      <td>JOHNSON</td>\n",
       "      <td>ROSS C.</td>\n",
       "      <td>FL</td>\n",
       "      <td>DROWNING</td>\n",
       "      <td>NaN</td>\n",
       "      <td>NaN</td>\n",
       "      <td>NaN</td>\n",
       "      <td>NaN</td>\n",
       "      <td>2021.0</td>\n",
       "    </tr>\n",
       "    <tr>\n",
       "      <th>3</th>\n",
       "      <td>4/11/2021</td>\n",
       "      <td>PETERKIN</td>\n",
       "      <td>JADEN DESHAWN</td>\n",
       "      <td>NC</td>\n",
       "      <td>BB</td>\n",
       "      <td>NaN</td>\n",
       "      <td>NaN</td>\n",
       "      <td>NaN</td>\n",
       "      <td>NaN</td>\n",
       "      <td>2021.0</td>\n",
       "    </tr>\n",
       "    <tr>\n",
       "      <th>4</th>\n",
       "      <td>4/11/2021</td>\n",
       "      <td>PETERKIN</td>\n",
       "      <td>ANTHONY</td>\n",
       "      <td>NC</td>\n",
       "      <td>BB</td>\n",
       "      <td>NaN</td>\n",
       "      <td>NaN</td>\n",
       "      <td>NaN</td>\n",
       "      <td>NaN</td>\n",
       "      <td>2021.0</td>\n",
       "    </tr>\n",
       "  </tbody>\n",
       "</table>\n",
       "</div>"
      ],
      "text/plain": [
       "       ACTED      LAST          FIRST ACTSTATE   ACTCODE CITY STRANGER DEATH  \\\n",
       "0   5/6/2021      BAIR        BRANDON       ID        BV  NaN      NaN   NaN   \n",
       "1  1/13/2022    THOMAS    ADAM LAYMAN       KY  DROWNING  NaN      NaN   NaN   \n",
       "2  5/17/2021   JOHNSON        ROSS C.       FL  DROWNING  NaN      NaN   NaN   \n",
       "3  4/11/2021  PETERKIN  JADEN DESHAWN       NC        BB  NaN      NaN   NaN   \n",
       "4  4/11/2021  PETERKIN        ANTHONY       NC        BB  NaN      NaN   NaN   \n",
       "\n",
       "  COUNTY    YEAR  \n",
       "0    NaN  2021.0  \n",
       "1    NaN  2022.0  \n",
       "2    NaN  2021.0  \n",
       "3    NaN  2021.0  \n",
       "4    NaN  2021.0  "
      ]
     },
     "execution_count": 95,
     "metadata": {},
     "output_type": "execute_result"
    }
   ],
   "source": [
    "df.head()"
   ]
  },
  {
   "cell_type": "markdown",
   "metadata": {},
   "source": [
    "Let's drop columns I don't need. Use inplace=True to change the actual df"
   ]
  },
  {
   "cell_type": "code",
   "execution_count": 96,
   "metadata": {},
   "outputs": [],
   "source": [
    "df.drop(columns=['LAST', 'FIRST', 'ACTED'], inplace=True)"
   ]
  },
  {
   "cell_type": "code",
   "execution_count": 97,
   "metadata": {},
   "outputs": [
    {
     "data": {
      "text/html": [
       "<div>\n",
       "<style scoped>\n",
       "    .dataframe tbody tr th:only-of-type {\n",
       "        vertical-align: middle;\n",
       "    }\n",
       "\n",
       "    .dataframe tbody tr th {\n",
       "        vertical-align: top;\n",
       "    }\n",
       "\n",
       "    .dataframe thead th {\n",
       "        text-align: right;\n",
       "    }\n",
       "</style>\n",
       "<table border=\"1\" class=\"dataframe\">\n",
       "  <thead>\n",
       "    <tr style=\"text-align: right;\">\n",
       "      <th></th>\n",
       "      <th>ACTSTATE</th>\n",
       "      <th>ACTCODE</th>\n",
       "      <th>CITY</th>\n",
       "      <th>STRANGER</th>\n",
       "      <th>DEATH</th>\n",
       "      <th>COUNTY</th>\n",
       "      <th>YEAR</th>\n",
       "    </tr>\n",
       "  </thead>\n",
       "  <tbody>\n",
       "    <tr>\n",
       "      <th>0</th>\n",
       "      <td>ID</td>\n",
       "      <td>BV</td>\n",
       "      <td>NaN</td>\n",
       "      <td>NaN</td>\n",
       "      <td>NaN</td>\n",
       "      <td>NaN</td>\n",
       "      <td>2021.0</td>\n",
       "    </tr>\n",
       "    <tr>\n",
       "      <th>1</th>\n",
       "      <td>KY</td>\n",
       "      <td>DROWNING</td>\n",
       "      <td>NaN</td>\n",
       "      <td>NaN</td>\n",
       "      <td>NaN</td>\n",
       "      <td>NaN</td>\n",
       "      <td>2022.0</td>\n",
       "    </tr>\n",
       "    <tr>\n",
       "      <th>2</th>\n",
       "      <td>FL</td>\n",
       "      <td>DROWNING</td>\n",
       "      <td>NaN</td>\n",
       "      <td>NaN</td>\n",
       "      <td>NaN</td>\n",
       "      <td>NaN</td>\n",
       "      <td>2021.0</td>\n",
       "    </tr>\n",
       "    <tr>\n",
       "      <th>3</th>\n",
       "      <td>NC</td>\n",
       "      <td>BB</td>\n",
       "      <td>NaN</td>\n",
       "      <td>NaN</td>\n",
       "      <td>NaN</td>\n",
       "      <td>NaN</td>\n",
       "      <td>2021.0</td>\n",
       "    </tr>\n",
       "    <tr>\n",
       "      <th>4</th>\n",
       "      <td>NC</td>\n",
       "      <td>BB</td>\n",
       "      <td>NaN</td>\n",
       "      <td>NaN</td>\n",
       "      <td>NaN</td>\n",
       "      <td>NaN</td>\n",
       "      <td>2021.0</td>\n",
       "    </tr>\n",
       "  </tbody>\n",
       "</table>\n",
       "</div>"
      ],
      "text/plain": [
       "  ACTSTATE   ACTCODE CITY STRANGER DEATH COUNTY    YEAR\n",
       "0       ID        BV  NaN      NaN   NaN    NaN  2021.0\n",
       "1       KY  DROWNING  NaN      NaN   NaN    NaN  2022.0\n",
       "2       FL  DROWNING  NaN      NaN   NaN    NaN  2021.0\n",
       "3       NC        BB  NaN      NaN   NaN    NaN  2021.0\n",
       "4       NC        BB  NaN      NaN   NaN    NaN  2021.0"
      ]
     },
     "execution_count": 97,
     "metadata": {},
     "output_type": "execute_result"
    }
   ],
   "source": [
    "df.head()"
   ]
  },
  {
   "cell_type": "markdown",
   "metadata": {},
   "source": [
    "Next I want to change the column names by setting them to an array so I can change them all at once."
   ]
  },
  {
   "cell_type": "code",
   "execution_count": 98,
   "metadata": {},
   "outputs": [
    {
     "data": {
      "text/plain": [
       "Index(['ACTSTATE', 'ACTCODE', 'CITY', 'STRANGER', 'DEATH', 'COUNTY', 'YEAR'], dtype='object')"
      ]
     },
     "execution_count": 98,
     "metadata": {},
     "output_type": "execute_result"
    }
   ],
   "source": [
    "df.columns"
   ]
  },
  {
   "cell_type": "code",
   "execution_count": 99,
   "metadata": {},
   "outputs": [],
   "source": [
    "df.columns = ['STATE', 'CODE', 'CITY', 'STRANGER', 'DEATH', 'COUNTY', 'YEAR']"
   ]
  },
  {
   "cell_type": "code",
   "execution_count": 100,
   "metadata": {},
   "outputs": [
    {
     "data": {
      "text/html": [
       "<div>\n",
       "<style scoped>\n",
       "    .dataframe tbody tr th:only-of-type {\n",
       "        vertical-align: middle;\n",
       "    }\n",
       "\n",
       "    .dataframe tbody tr th {\n",
       "        vertical-align: top;\n",
       "    }\n",
       "\n",
       "    .dataframe thead th {\n",
       "        text-align: right;\n",
       "    }\n",
       "</style>\n",
       "<table border=\"1\" class=\"dataframe\">\n",
       "  <thead>\n",
       "    <tr style=\"text-align: right;\">\n",
       "      <th></th>\n",
       "      <th>STATE</th>\n",
       "      <th>CODE</th>\n",
       "      <th>CITY</th>\n",
       "      <th>STRANGER</th>\n",
       "      <th>DEATH</th>\n",
       "      <th>COUNTY</th>\n",
       "      <th>YEAR</th>\n",
       "    </tr>\n",
       "  </thead>\n",
       "  <tbody>\n",
       "    <tr>\n",
       "      <th>0</th>\n",
       "      <td>ID</td>\n",
       "      <td>BV</td>\n",
       "      <td>NaN</td>\n",
       "      <td>NaN</td>\n",
       "      <td>NaN</td>\n",
       "      <td>NaN</td>\n",
       "      <td>2021.0</td>\n",
       "    </tr>\n",
       "    <tr>\n",
       "      <th>1</th>\n",
       "      <td>KY</td>\n",
       "      <td>DROWNING</td>\n",
       "      <td>NaN</td>\n",
       "      <td>NaN</td>\n",
       "      <td>NaN</td>\n",
       "      <td>NaN</td>\n",
       "      <td>2022.0</td>\n",
       "    </tr>\n",
       "    <tr>\n",
       "      <th>2</th>\n",
       "      <td>FL</td>\n",
       "      <td>DROWNING</td>\n",
       "      <td>NaN</td>\n",
       "      <td>NaN</td>\n",
       "      <td>NaN</td>\n",
       "      <td>NaN</td>\n",
       "      <td>2021.0</td>\n",
       "    </tr>\n",
       "    <tr>\n",
       "      <th>3</th>\n",
       "      <td>NC</td>\n",
       "      <td>BB</td>\n",
       "      <td>NaN</td>\n",
       "      <td>NaN</td>\n",
       "      <td>NaN</td>\n",
       "      <td>NaN</td>\n",
       "      <td>2021.0</td>\n",
       "    </tr>\n",
       "    <tr>\n",
       "      <th>4</th>\n",
       "      <td>NC</td>\n",
       "      <td>BB</td>\n",
       "      <td>NaN</td>\n",
       "      <td>NaN</td>\n",
       "      <td>NaN</td>\n",
       "      <td>NaN</td>\n",
       "      <td>2021.0</td>\n",
       "    </tr>\n",
       "  </tbody>\n",
       "</table>\n",
       "</div>"
      ],
      "text/plain": [
       "  STATE      CODE CITY STRANGER DEATH COUNTY    YEAR\n",
       "0    ID        BV  NaN      NaN   NaN    NaN  2021.0\n",
       "1    KY  DROWNING  NaN      NaN   NaN    NaN  2022.0\n",
       "2    FL  DROWNING  NaN      NaN   NaN    NaN  2021.0\n",
       "3    NC        BB  NaN      NaN   NaN    NaN  2021.0\n",
       "4    NC        BB  NaN      NaN   NaN    NaN  2021.0"
      ]
     },
     "execution_count": 100,
     "metadata": {},
     "output_type": "execute_result"
    }
   ],
   "source": [
    "df.head()"
   ]
  },
  {
   "cell_type": "markdown",
   "metadata": {},
   "source": [
    "I had to manually input rows for STRANGER, DEATH and COUNTY since this wasn't determined in the data that was provided. I made a judgement call based on each recording of the medal incident if the person was a stranger.  STRANGER with a Y means yes they were strangers. I found the counties based off the towns provided. DEATH with a Y means the medal winner died during the rescue attempt.  I had attempted to write code to scan all of the incident reports, but the language was too broad since they were written between 1905-2022. I hope to revisit this attempt later when I have more experience. I chose KY, CA, and AK for manual entry so they will be the focuse of this project. "
   ]
  },
  {
   "cell_type": "markdown",
   "metadata": {},
   "source": [
    "Now I need to filter my data to keep only the rows and columns of KY, CA, AK. I will use the isin function and creating a new df to do this."
   ]
  },
  {
   "cell_type": "code",
   "execution_count": 101,
   "metadata": {},
   "outputs": [
    {
     "data": {
      "text/html": [
       "<div>\n",
       "<style scoped>\n",
       "    .dataframe tbody tr th:only-of-type {\n",
       "        vertical-align: middle;\n",
       "    }\n",
       "\n",
       "    .dataframe tbody tr th {\n",
       "        vertical-align: top;\n",
       "    }\n",
       "\n",
       "    .dataframe thead th {\n",
       "        text-align: right;\n",
       "    }\n",
       "</style>\n",
       "<table border=\"1\" class=\"dataframe\">\n",
       "  <thead>\n",
       "    <tr style=\"text-align: right;\">\n",
       "      <th></th>\n",
       "      <th>STATE</th>\n",
       "      <th>CODE</th>\n",
       "      <th>CITY</th>\n",
       "      <th>STRANGER</th>\n",
       "      <th>DEATH</th>\n",
       "      <th>COUNTY</th>\n",
       "      <th>YEAR</th>\n",
       "    </tr>\n",
       "  </thead>\n",
       "  <tbody>\n",
       "    <tr>\n",
       "      <th>1</th>\n",
       "      <td>KY</td>\n",
       "      <td>DROWNING</td>\n",
       "      <td>NaN</td>\n",
       "      <td>NaN</td>\n",
       "      <td>NaN</td>\n",
       "      <td>NaN</td>\n",
       "      <td>2022.0</td>\n",
       "    </tr>\n",
       "    <tr>\n",
       "      <th>16</th>\n",
       "      <td>CA</td>\n",
       "      <td>DROWNING</td>\n",
       "      <td>SAN DIEGO</td>\n",
       "      <td>Y</td>\n",
       "      <td>N</td>\n",
       "      <td>SAN DIEGO</td>\n",
       "      <td>2021.0</td>\n",
       "    </tr>\n",
       "    <tr>\n",
       "      <th>17</th>\n",
       "      <td>CA</td>\n",
       "      <td>DROWNING</td>\n",
       "      <td>SAN DIEGO</td>\n",
       "      <td>Y</td>\n",
       "      <td>N</td>\n",
       "      <td>SAN DIEGO</td>\n",
       "      <td>2021.0</td>\n",
       "    </tr>\n",
       "    <tr>\n",
       "      <th>27</th>\n",
       "      <td>CA</td>\n",
       "      <td>DROWNING</td>\n",
       "      <td>SANGER</td>\n",
       "      <td>Y</td>\n",
       "      <td>Y</td>\n",
       "      <td>FRESNO</td>\n",
       "      <td>2020.0</td>\n",
       "    </tr>\n",
       "    <tr>\n",
       "      <th>33</th>\n",
       "      <td>CA</td>\n",
       "      <td>ANIMAL</td>\n",
       "      <td>LOS ANGELES</td>\n",
       "      <td>Y</td>\n",
       "      <td>N</td>\n",
       "      <td>LA</td>\n",
       "      <td>2021.0</td>\n",
       "    </tr>\n",
       "  </tbody>\n",
       "</table>\n",
       "</div>"
      ],
      "text/plain": [
       "   STATE      CODE         CITY STRANGER DEATH     COUNTY    YEAR\n",
       "1     KY  DROWNING          NaN      NaN   NaN        NaN  2022.0\n",
       "16    CA  DROWNING    SAN DIEGO        Y     N  SAN DIEGO  2021.0\n",
       "17    CA  DROWNING    SAN DIEGO        Y     N  SAN DIEGO  2021.0\n",
       "27    CA  DROWNING       SANGER        Y     Y     FRESNO  2020.0\n",
       "33    CA    ANIMAL  LOS ANGELES        Y     N         LA  2021.0"
      ]
     },
     "execution_count": 101,
     "metadata": {},
     "output_type": "execute_result"
    }
   ],
   "source": [
    "options = ['KY', 'AK', 'CA']\n",
    "new_df = df[df['STATE'].isin(options)]\n",
    "new_df.head()"
   ]
  },
  {
   "cell_type": "markdown",
   "metadata": {},
   "source": [
    "Now I want to drop all rows with NaN and save the change to the new_df. Let's look at the shape to make sure the changes stay."
   ]
  },
  {
   "cell_type": "code",
   "execution_count": 102,
   "metadata": {},
   "outputs": [
    {
     "data": {
      "text/plain": [
       "(938, 7)"
      ]
     },
     "execution_count": 102,
     "metadata": {},
     "output_type": "execute_result"
    }
   ],
   "source": [
    "new_df.shape"
   ]
  },
  {
   "cell_type": "code",
   "execution_count": 103,
   "metadata": {},
   "outputs": [
    {
     "name": "stderr",
     "output_type": "stream",
     "text": [
      "C:\\Users\\emorr\\AppData\\Local\\Temp\\ipykernel_14392\\1925939579.py:1: SettingWithCopyWarning: \n",
      "A value is trying to be set on a copy of a slice from a DataFrame\n",
      "\n",
      "See the caveats in the documentation: https://pandas.pydata.org/pandas-docs/stable/user_guide/indexing.html#returning-a-view-versus-a-copy\n",
      "  new_df.dropna(inplace=True)\n"
     ]
    }
   ],
   "source": [
    "new_df.dropna(inplace=True)"
   ]
  },
  {
   "cell_type": "code",
   "execution_count": 104,
   "metadata": {},
   "outputs": [
    {
     "data": {
      "text/plain": [
       "(922, 7)"
      ]
     },
     "execution_count": 104,
     "metadata": {},
     "output_type": "execute_result"
    }
   ],
   "source": [
    "new_df.shape"
   ]
  },
  {
   "cell_type": "code",
   "execution_count": 105,
   "metadata": {},
   "outputs": [
    {
     "data": {
      "text/html": [
       "<div>\n",
       "<style scoped>\n",
       "    .dataframe tbody tr th:only-of-type {\n",
       "        vertical-align: middle;\n",
       "    }\n",
       "\n",
       "    .dataframe tbody tr th {\n",
       "        vertical-align: top;\n",
       "    }\n",
       "\n",
       "    .dataframe thead th {\n",
       "        text-align: right;\n",
       "    }\n",
       "</style>\n",
       "<table border=\"1\" class=\"dataframe\">\n",
       "  <thead>\n",
       "    <tr style=\"text-align: right;\">\n",
       "      <th></th>\n",
       "      <th>STATE</th>\n",
       "      <th>CODE</th>\n",
       "      <th>CITY</th>\n",
       "      <th>STRANGER</th>\n",
       "      <th>DEATH</th>\n",
       "      <th>COUNTY</th>\n",
       "      <th>YEAR</th>\n",
       "    </tr>\n",
       "  </thead>\n",
       "  <tbody>\n",
       "    <tr>\n",
       "      <th>16</th>\n",
       "      <td>CA</td>\n",
       "      <td>DROWNING</td>\n",
       "      <td>SAN DIEGO</td>\n",
       "      <td>Y</td>\n",
       "      <td>N</td>\n",
       "      <td>SAN DIEGO</td>\n",
       "      <td>2021.0</td>\n",
       "    </tr>\n",
       "    <tr>\n",
       "      <th>17</th>\n",
       "      <td>CA</td>\n",
       "      <td>DROWNING</td>\n",
       "      <td>SAN DIEGO</td>\n",
       "      <td>Y</td>\n",
       "      <td>N</td>\n",
       "      <td>SAN DIEGO</td>\n",
       "      <td>2021.0</td>\n",
       "    </tr>\n",
       "    <tr>\n",
       "      <th>27</th>\n",
       "      <td>CA</td>\n",
       "      <td>DROWNING</td>\n",
       "      <td>SANGER</td>\n",
       "      <td>Y</td>\n",
       "      <td>Y</td>\n",
       "      <td>FRESNO</td>\n",
       "      <td>2020.0</td>\n",
       "    </tr>\n",
       "    <tr>\n",
       "      <th>33</th>\n",
       "      <td>CA</td>\n",
       "      <td>ANIMAL</td>\n",
       "      <td>LOS ANGELES</td>\n",
       "      <td>Y</td>\n",
       "      <td>N</td>\n",
       "      <td>LA</td>\n",
       "      <td>2021.0</td>\n",
       "    </tr>\n",
       "    <tr>\n",
       "      <th>47</th>\n",
       "      <td>CA</td>\n",
       "      <td>DROWNING</td>\n",
       "      <td>SAN DIEGO</td>\n",
       "      <td>Y</td>\n",
       "      <td>N</td>\n",
       "      <td>SAN DIEGO</td>\n",
       "      <td>2020.0</td>\n",
       "    </tr>\n",
       "  </tbody>\n",
       "</table>\n",
       "</div>"
      ],
      "text/plain": [
       "   STATE      CODE         CITY STRANGER DEATH     COUNTY    YEAR\n",
       "16    CA  DROWNING    SAN DIEGO        Y     N  SAN DIEGO  2021.0\n",
       "17    CA  DROWNING    SAN DIEGO        Y     N  SAN DIEGO  2021.0\n",
       "27    CA  DROWNING       SANGER        Y     Y     FRESNO  2020.0\n",
       "33    CA    ANIMAL  LOS ANGELES        Y     N         LA  2021.0\n",
       "47    CA  DROWNING    SAN DIEGO        Y     N  SAN DIEGO  2020.0"
      ]
     },
     "execution_count": 105,
     "metadata": {},
     "output_type": "execute_result"
    }
   ],
   "source": [
    "new_df.head()"
   ]
  },
  {
   "cell_type": "code",
   "execution_count": 106,
   "metadata": {},
   "outputs": [
    {
     "data": {
      "text/plain": [
       "STATE        object\n",
       "CODE         object\n",
       "CITY         object\n",
       "STRANGER     object\n",
       "DEATH        object\n",
       "COUNTY       object\n",
       "YEAR        float64\n",
       "dtype: object"
      ]
     },
     "execution_count": 106,
     "metadata": {},
     "output_type": "execute_result"
    }
   ],
   "source": [
    "new_df.dtypes"
   ]
  },
  {
   "cell_type": "code",
   "execution_count": 111,
   "metadata": {},
   "outputs": [
    {
     "data": {
      "text/plain": [
       "array(['DROWNING', 'ANIMAL', 'SV', 'BV', 'GENERAL', 'ASSAULT', 'BB',\n",
       "       'ELECTROCUTION', 'MVP', 'BOAT', 'ELEVATION', 'ICE', 'SUFFOCATION',\n",
       "       'MVI', 'EXPOSURE', 'CAVE-IN', 'IMPENDING EX.', 'MVV'], dtype=object)"
      ]
     },
     "execution_count": 111,
     "metadata": {},
     "output_type": "execute_result"
    }
   ],
   "source": [
    "new_df['CODE'].unique()"
   ]
  },
  {
   "cell_type": "markdown",
   "metadata": {},
   "source": [
    "1910-1920 "
   ]
  },
  {
   "cell_type": "code",
   "execution_count": 107,
   "metadata": {},
   "outputs": [
    {
     "data": {
      "text/plain": [
       "array([1904., 1906., 1907., 1908., 1909., 1910., 1911., 1912., 1913.,\n",
       "       1914., 1915., 1916., 1917., 1918., 1919., 1920., 1921., 1922.,\n",
       "       1923., 1924., 1925., 1926., 1927., 1928., 1929., 1930., 1931.,\n",
       "       1932., 1933., 1934., 1935., 1936., 1937., 1938., 1939., 1940.,\n",
       "       1941., 1942., 1943., 1944., 1945., 1946., 1947., 1948., 1949.,\n",
       "       1950., 1951., 1952., 1953., 1954., 1955., 1956., 1957., 1958.,\n",
       "       1959., 1960., 1961., 1962., 1963., 1964., 1965., 1966., 1967.,\n",
       "       1968., 1969., 1970., 1971., 1972., 1973., 1974., 1975., 1976.,\n",
       "       1977., 1978., 1979., 1980., 1981., 1982., 1983., 1984., 1985.,\n",
       "       1986., 1987., 1988., 1989., 1990., 1991., 1992., 1993., 1994.,\n",
       "       1995., 1996., 1997., 1998., 1999., 2000., 2001., 2002., 2003.,\n",
       "       2004., 2005., 2006., 2007., 2008., 2009., 2010., 2011., 2012.,\n",
       "       2013., 2014., 2015., 2016., 2017., 2018., 2019., 2020., 2021.])"
      ]
     },
     "execution_count": 107,
     "metadata": {},
     "output_type": "execute_result"
    }
   ],
   "source": [
    "new_df['YEAR'].sort_values(ascending=True).unique()"
   ]
  },
  {
   "cell_type": "code",
   "execution_count": 108,
   "metadata": {},
   "outputs": [],
   "source": [
    "\n",
    "##range = {'1910.': '1910-1920', '1911.': '1910-1920', '1912.': '1910-1920', '1912.': '1910-1920', '1913.': '1910-1920','1914.': '1910-1920', '1915.': '1910-1920',\n",
    "##'1916.': '1910-1920','1917.': '1910-1920','1918.': '1910-1920', '1919.': '1910-1920', '1920.': '1910-1920', '1921.':'1920-1930', '1922.':'1920-1930','1923.':'1920-1930',\n",
    "##'1924.':'1920-1930','1925.':'1920-1930','1926.':'1920-1930','1927.':'1920-1930', '1928.':'1920-1930','1929.':'1920-1930','1930.':'1920-1930', '1931.':'1930-1940',\n",
    "##'1932.':'1930-1940','1933.':'1930-1940','1934.':'1930-1940','1935.':'1930-1940','1936.':'1930-1940','1937.':'1930-1940','1938.':'1930-1940','1939.':'1930-1940',\n",
    "##'1940.':'1930-1940','1941.':'1940-1950','1942.':'1940-1950','1943.':'1940-1950','1944.':'1940-1950','1945.':'1940-1950','1946.':'1940-1950','1947.':'1940-1950'}\n",
    "\n",
    "##new_df['RANGE'] = new_df['YEAR'].map(range)\n",
    "\n",
    "##new_df['RANGE'].value_counts()"
   ]
  }
 ],
 "metadata": {
  "kernelspec": {
   "display_name": "Python 3.9.13 ('venv': venv)",
   "language": "python",
   "name": "python3"
  },
  "language_info": {
   "codemirror_mode": {
    "name": "ipython",
    "version": 3
   },
   "file_extension": ".py",
   "mimetype": "text/x-python",
   "name": "python",
   "nbconvert_exporter": "python",
   "pygments_lexer": "ipython3",
   "version": "3.9.13"
  },
  "orig_nbformat": 4,
  "vscode": {
   "interpreter": {
    "hash": "ba78f816ed15beac19f104cd725af58bebcc3cb02aace2d34fcc35c86a2b67c8"
   }
  }
 },
 "nbformat": 4,
 "nbformat_minor": 2
}
