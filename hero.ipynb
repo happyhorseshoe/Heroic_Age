{
 "cells": [
  {
   "cell_type": "code",
   "execution_count": null,
   "metadata": {},
   "outputs": [],
   "source": []
  }
 ],
 "metadata": {
  "kernelspec": {
   "display_name": "Python 3.10.1 64-bit",
   "language": "python",
   "name": "python3"
  },
  "language_info": {
   "name": "python",
   "version": "3.10.1"
  },
  "orig_nbformat": 4,
  "vscode": {
   "interpreter": {
    "hash": "13acd496c26912d0ecd63d9cfbc9e8cdea6e4f5a2c12f3dadc5926ed855e9811"
   }
  }
 },
 "nbformat": 4,
 "nbformat_minor": 2
}
