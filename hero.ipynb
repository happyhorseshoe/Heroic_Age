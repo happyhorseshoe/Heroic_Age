{
 "cells": [
  {
   "cell_type": "markdown",
   "metadata": {},
   "source": [
    "Project Heroic Age or Heroic Population?\n",
    "The Carnegie Hero Fund was established in 1905 by Andrew Carnegie who said \"we live in a Heroic Age\". This project will examine if people are more willing to risk their life for a stranger if they live in a smaller population area. I chose the Carnegie Hero Fund for data because of its requirements and number of years available. The award is given 4 times a year to civilians who voluntarily risks life to an \"extraordinary degree\" and have \"no full measure of responsibility for the safety of the victim\". Part One will focuse on cleaning and analysis of the Carnegie Hero Fund data. Part Two will introduce population data from the Census Bureau. Part Three will summarize my finidings."
   ]
  },
  {
   "cell_type": "code",
   "execution_count": 56,
   "metadata": {},
   "outputs": [],
   "source": [
    "import pandas as pd\n"
   ]
  },
  {
   "cell_type": "markdown",
   "metadata": {},
   "source": [
    "Pay attention to the difference between importing an xlsx file vs a csv file. I had to pip install openpyxl in the terminal"
   ]
  },
  {
   "cell_type": "code",
   "execution_count": 57,
   "metadata": {},
   "outputs": [],
   "source": [
    "df = pd.read_excel(\"C:\\\\Users\\\\emorr\\\\OneDrive\\\\Desktop\\\\CHM\\\\medal.xlsx\")"
   ]
  },
  {
   "cell_type": "code",
   "execution_count": 58,
   "metadata": {},
   "outputs": [
    {
     "data": {
      "text/html": [
       "<div>\n",
       "<style scoped>\n",
       "    .dataframe tbody tr th:only-of-type {\n",
       "        vertical-align: middle;\n",
       "    }\n",
       "\n",
       "    .dataframe tbody tr th {\n",
       "        vertical-align: top;\n",
       "    }\n",
       "\n",
       "    .dataframe thead th {\n",
       "        text-align: right;\n",
       "    }\n",
       "</style>\n",
       "<table border=\"1\" class=\"dataframe\">\n",
       "  <thead>\n",
       "    <tr style=\"text-align: right;\">\n",
       "      <th></th>\n",
       "      <th>ACTED</th>\n",
       "      <th>LAST</th>\n",
       "      <th>FIRST</th>\n",
       "      <th>ACTSTATE</th>\n",
       "      <th>ACTCODE</th>\n",
       "      <th>CITY</th>\n",
       "      <th>STRANGER</th>\n",
       "      <th>DEATH</th>\n",
       "      <th>COUNTY</th>\n",
       "    </tr>\n",
       "  </thead>\n",
       "  <tbody>\n",
       "    <tr>\n",
       "      <th>0</th>\n",
       "      <td>5/6/2021</td>\n",
       "      <td>BAIR</td>\n",
       "      <td>BRANDON</td>\n",
       "      <td>ID</td>\n",
       "      <td>BV</td>\n",
       "      <td>NaN</td>\n",
       "      <td>NaN</td>\n",
       "      <td>NaN</td>\n",
       "      <td>NaN</td>\n",
       "    </tr>\n",
       "    <tr>\n",
       "      <th>1</th>\n",
       "      <td>1/13/2022</td>\n",
       "      <td>THOMAS</td>\n",
       "      <td>ADAM LAYMAN</td>\n",
       "      <td>KY</td>\n",
       "      <td>DROWNING</td>\n",
       "      <td>NaN</td>\n",
       "      <td>NaN</td>\n",
       "      <td>NaN</td>\n",
       "      <td>NaN</td>\n",
       "    </tr>\n",
       "    <tr>\n",
       "      <th>2</th>\n",
       "      <td>5/17/2021</td>\n",
       "      <td>JOHNSON</td>\n",
       "      <td>ROSS C.</td>\n",
       "      <td>FL</td>\n",
       "      <td>DROWNING</td>\n",
       "      <td>NaN</td>\n",
       "      <td>NaN</td>\n",
       "      <td>NaN</td>\n",
       "      <td>NaN</td>\n",
       "    </tr>\n",
       "    <tr>\n",
       "      <th>3</th>\n",
       "      <td>4/11/2021</td>\n",
       "      <td>PETERKIN</td>\n",
       "      <td>JADEN DESHAWN</td>\n",
       "      <td>NC</td>\n",
       "      <td>BB</td>\n",
       "      <td>NaN</td>\n",
       "      <td>NaN</td>\n",
       "      <td>NaN</td>\n",
       "      <td>NaN</td>\n",
       "    </tr>\n",
       "    <tr>\n",
       "      <th>4</th>\n",
       "      <td>4/11/2021</td>\n",
       "      <td>PETERKIN</td>\n",
       "      <td>ANTHONY</td>\n",
       "      <td>NC</td>\n",
       "      <td>BB</td>\n",
       "      <td>NaN</td>\n",
       "      <td>NaN</td>\n",
       "      <td>NaN</td>\n",
       "      <td>NaN</td>\n",
       "    </tr>\n",
       "  </tbody>\n",
       "</table>\n",
       "</div>"
      ],
      "text/plain": [
       "       ACTED      LAST          FIRST ACTSTATE   ACTCODE CITY STRANGER DEATH  \\\n",
       "0   5/6/2021      BAIR        BRANDON       ID        BV  NaN      NaN   NaN   \n",
       "1  1/13/2022    THOMAS    ADAM LAYMAN       KY  DROWNING  NaN      NaN   NaN   \n",
       "2  5/17/2021   JOHNSON        ROSS C.       FL  DROWNING  NaN      NaN   NaN   \n",
       "3  4/11/2021  PETERKIN  JADEN DESHAWN       NC        BB  NaN      NaN   NaN   \n",
       "4  4/11/2021  PETERKIN        ANTHONY       NC        BB  NaN      NaN   NaN   \n",
       "\n",
       "  COUNTY  \n",
       "0    NaN  \n",
       "1    NaN  \n",
       "2    NaN  \n",
       "3    NaN  \n",
       "4    NaN  "
      ]
     },
     "execution_count": 58,
     "metadata": {},
     "output_type": "execute_result"
    }
   ],
   "source": [
    "df.head()"
   ]
  },
  {
   "cell_type": "markdown",
   "metadata": {},
   "source": [
    "Let's drop columns I don't need. Use inplace=True to change the actual df"
   ]
  },
  {
   "cell_type": "code",
   "execution_count": 59,
   "metadata": {},
   "outputs": [],
   "source": [
    "df.drop(columns=['LAST', 'FIRST'], inplace=True)"
   ]
  },
  {
   "cell_type": "code",
   "execution_count": 60,
   "metadata": {},
   "outputs": [
    {
     "data": {
      "text/html": [
       "<div>\n",
       "<style scoped>\n",
       "    .dataframe tbody tr th:only-of-type {\n",
       "        vertical-align: middle;\n",
       "    }\n",
       "\n",
       "    .dataframe tbody tr th {\n",
       "        vertical-align: top;\n",
       "    }\n",
       "\n",
       "    .dataframe thead th {\n",
       "        text-align: right;\n",
       "    }\n",
       "</style>\n",
       "<table border=\"1\" class=\"dataframe\">\n",
       "  <thead>\n",
       "    <tr style=\"text-align: right;\">\n",
       "      <th></th>\n",
       "      <th>ACTED</th>\n",
       "      <th>ACTSTATE</th>\n",
       "      <th>ACTCODE</th>\n",
       "      <th>CITY</th>\n",
       "      <th>STRANGER</th>\n",
       "      <th>DEATH</th>\n",
       "      <th>COUNTY</th>\n",
       "    </tr>\n",
       "  </thead>\n",
       "  <tbody>\n",
       "    <tr>\n",
       "      <th>0</th>\n",
       "      <td>5/6/2021</td>\n",
       "      <td>ID</td>\n",
       "      <td>BV</td>\n",
       "      <td>NaN</td>\n",
       "      <td>NaN</td>\n",
       "      <td>NaN</td>\n",
       "      <td>NaN</td>\n",
       "    </tr>\n",
       "    <tr>\n",
       "      <th>1</th>\n",
       "      <td>1/13/2022</td>\n",
       "      <td>KY</td>\n",
       "      <td>DROWNING</td>\n",
       "      <td>NaN</td>\n",
       "      <td>NaN</td>\n",
       "      <td>NaN</td>\n",
       "      <td>NaN</td>\n",
       "    </tr>\n",
       "    <tr>\n",
       "      <th>2</th>\n",
       "      <td>5/17/2021</td>\n",
       "      <td>FL</td>\n",
       "      <td>DROWNING</td>\n",
       "      <td>NaN</td>\n",
       "      <td>NaN</td>\n",
       "      <td>NaN</td>\n",
       "      <td>NaN</td>\n",
       "    </tr>\n",
       "    <tr>\n",
       "      <th>3</th>\n",
       "      <td>4/11/2021</td>\n",
       "      <td>NC</td>\n",
       "      <td>BB</td>\n",
       "      <td>NaN</td>\n",
       "      <td>NaN</td>\n",
       "      <td>NaN</td>\n",
       "      <td>NaN</td>\n",
       "    </tr>\n",
       "    <tr>\n",
       "      <th>4</th>\n",
       "      <td>4/11/2021</td>\n",
       "      <td>NC</td>\n",
       "      <td>BB</td>\n",
       "      <td>NaN</td>\n",
       "      <td>NaN</td>\n",
       "      <td>NaN</td>\n",
       "      <td>NaN</td>\n",
       "    </tr>\n",
       "  </tbody>\n",
       "</table>\n",
       "</div>"
      ],
      "text/plain": [
       "       ACTED ACTSTATE   ACTCODE CITY STRANGER DEATH COUNTY\n",
       "0   5/6/2021       ID        BV  NaN      NaN   NaN    NaN\n",
       "1  1/13/2022       KY  DROWNING  NaN      NaN   NaN    NaN\n",
       "2  5/17/2021       FL  DROWNING  NaN      NaN   NaN    NaN\n",
       "3  4/11/2021       NC        BB  NaN      NaN   NaN    NaN\n",
       "4  4/11/2021       NC        BB  NaN      NaN   NaN    NaN"
      ]
     },
     "execution_count": 60,
     "metadata": {},
     "output_type": "execute_result"
    }
   ],
   "source": [
    "df.head()"
   ]
  },
  {
   "cell_type": "markdown",
   "metadata": {},
   "source": [
    "Next I want to change the column names by setting them to an array so I can change them all at once."
   ]
  },
  {
   "cell_type": "code",
   "execution_count": 61,
   "metadata": {},
   "outputs": [
    {
     "data": {
      "text/plain": [
       "Index(['ACTED', 'ACTSTATE', 'ACTCODE', 'CITY', 'STRANGER', 'DEATH', 'COUNTY'], dtype='object')"
      ]
     },
     "execution_count": 61,
     "metadata": {},
     "output_type": "execute_result"
    }
   ],
   "source": [
    "df.columns"
   ]
  },
  {
   "cell_type": "code",
   "execution_count": 62,
   "metadata": {},
   "outputs": [],
   "source": [
    "df.columns = ['DATE', 'STATE', 'CODE', 'CITY', 'STRANGER', 'DEATH', 'COUNTY']"
   ]
  },
  {
   "cell_type": "code",
   "execution_count": 63,
   "metadata": {},
   "outputs": [
    {
     "data": {
      "text/html": [
       "<div>\n",
       "<style scoped>\n",
       "    .dataframe tbody tr th:only-of-type {\n",
       "        vertical-align: middle;\n",
       "    }\n",
       "\n",
       "    .dataframe tbody tr th {\n",
       "        vertical-align: top;\n",
       "    }\n",
       "\n",
       "    .dataframe thead th {\n",
       "        text-align: right;\n",
       "    }\n",
       "</style>\n",
       "<table border=\"1\" class=\"dataframe\">\n",
       "  <thead>\n",
       "    <tr style=\"text-align: right;\">\n",
       "      <th></th>\n",
       "      <th>DATE</th>\n",
       "      <th>STATE</th>\n",
       "      <th>CODE</th>\n",
       "      <th>CITY</th>\n",
       "      <th>STRANGER</th>\n",
       "      <th>DEATH</th>\n",
       "      <th>COUNTY</th>\n",
       "    </tr>\n",
       "  </thead>\n",
       "  <tbody>\n",
       "    <tr>\n",
       "      <th>0</th>\n",
       "      <td>5/6/2021</td>\n",
       "      <td>ID</td>\n",
       "      <td>BV</td>\n",
       "      <td>NaN</td>\n",
       "      <td>NaN</td>\n",
       "      <td>NaN</td>\n",
       "      <td>NaN</td>\n",
       "    </tr>\n",
       "    <tr>\n",
       "      <th>1</th>\n",
       "      <td>1/13/2022</td>\n",
       "      <td>KY</td>\n",
       "      <td>DROWNING</td>\n",
       "      <td>NaN</td>\n",
       "      <td>NaN</td>\n",
       "      <td>NaN</td>\n",
       "      <td>NaN</td>\n",
       "    </tr>\n",
       "    <tr>\n",
       "      <th>2</th>\n",
       "      <td>5/17/2021</td>\n",
       "      <td>FL</td>\n",
       "      <td>DROWNING</td>\n",
       "      <td>NaN</td>\n",
       "      <td>NaN</td>\n",
       "      <td>NaN</td>\n",
       "      <td>NaN</td>\n",
       "    </tr>\n",
       "    <tr>\n",
       "      <th>3</th>\n",
       "      <td>4/11/2021</td>\n",
       "      <td>NC</td>\n",
       "      <td>BB</td>\n",
       "      <td>NaN</td>\n",
       "      <td>NaN</td>\n",
       "      <td>NaN</td>\n",
       "      <td>NaN</td>\n",
       "    </tr>\n",
       "    <tr>\n",
       "      <th>4</th>\n",
       "      <td>4/11/2021</td>\n",
       "      <td>NC</td>\n",
       "      <td>BB</td>\n",
       "      <td>NaN</td>\n",
       "      <td>NaN</td>\n",
       "      <td>NaN</td>\n",
       "      <td>NaN</td>\n",
       "    </tr>\n",
       "  </tbody>\n",
       "</table>\n",
       "</div>"
      ],
      "text/plain": [
       "        DATE STATE      CODE CITY STRANGER DEATH COUNTY\n",
       "0   5/6/2021    ID        BV  NaN      NaN   NaN    NaN\n",
       "1  1/13/2022    KY  DROWNING  NaN      NaN   NaN    NaN\n",
       "2  5/17/2021    FL  DROWNING  NaN      NaN   NaN    NaN\n",
       "3  4/11/2021    NC        BB  NaN      NaN   NaN    NaN\n",
       "4  4/11/2021    NC        BB  NaN      NaN   NaN    NaN"
      ]
     },
     "execution_count": 63,
     "metadata": {},
     "output_type": "execute_result"
    }
   ],
   "source": [
    "df.head()"
   ]
  },
  {
   "cell_type": "markdown",
   "metadata": {},
   "source": [
    "I had to manually input rows for STRANGER, DEATH and COUNTY since this wasn't determined in the data that was provided. I made a judgement call based on each recording of the medal incident if the person was a stranger.  STRANGER with a Y means yes they were strangers. I found the counties based off the towns provided. DEATH with a Y means the medal winner died during the rescue attempt.  I had attempted to write code to scan all of the incident reports, but the language was too broad since they were written between 1905-2022. I hope to revisit this attempt later when I have more experience. I chose KY, CA, and AK for manual entry so they will be the focuse of this project. "
   ]
  },
  {
   "cell_type": "markdown",
   "metadata": {},
   "source": [
    "Now I need to filter my data to keep only the rows and columns of KY, CA, AK. I will use the isin function and creating a new df to do this."
   ]
  },
  {
   "cell_type": "code",
   "execution_count": 64,
   "metadata": {},
   "outputs": [
    {
     "data": {
      "text/html": [
       "<div>\n",
       "<style scoped>\n",
       "    .dataframe tbody tr th:only-of-type {\n",
       "        vertical-align: middle;\n",
       "    }\n",
       "\n",
       "    .dataframe tbody tr th {\n",
       "        vertical-align: top;\n",
       "    }\n",
       "\n",
       "    .dataframe thead th {\n",
       "        text-align: right;\n",
       "    }\n",
       "</style>\n",
       "<table border=\"1\" class=\"dataframe\">\n",
       "  <thead>\n",
       "    <tr style=\"text-align: right;\">\n",
       "      <th></th>\n",
       "      <th>DATE</th>\n",
       "      <th>STATE</th>\n",
       "      <th>CODE</th>\n",
       "      <th>CITY</th>\n",
       "      <th>STRANGER</th>\n",
       "      <th>DEATH</th>\n",
       "      <th>COUNTY</th>\n",
       "    </tr>\n",
       "  </thead>\n",
       "  <tbody>\n",
       "    <tr>\n",
       "      <th>1</th>\n",
       "      <td>1/13/2022</td>\n",
       "      <td>KY</td>\n",
       "      <td>DROWNING</td>\n",
       "      <td>NaN</td>\n",
       "      <td>NaN</td>\n",
       "      <td>NaN</td>\n",
       "      <td>NaN</td>\n",
       "    </tr>\n",
       "    <tr>\n",
       "      <th>16</th>\n",
       "      <td>7/3/2021</td>\n",
       "      <td>CA</td>\n",
       "      <td>DROWNING</td>\n",
       "      <td>SAN DIEGO</td>\n",
       "      <td>Y</td>\n",
       "      <td>N</td>\n",
       "      <td>SAN DIEGO</td>\n",
       "    </tr>\n",
       "    <tr>\n",
       "      <th>17</th>\n",
       "      <td>2021-07-03 00:00:00</td>\n",
       "      <td>CA</td>\n",
       "      <td>DROWNING</td>\n",
       "      <td>SAN DIEGO</td>\n",
       "      <td>Y</td>\n",
       "      <td>N</td>\n",
       "      <td>SAN DIEGO</td>\n",
       "    </tr>\n",
       "    <tr>\n",
       "      <th>27</th>\n",
       "      <td>6/9/2020</td>\n",
       "      <td>CA</td>\n",
       "      <td>DROWNING</td>\n",
       "      <td>SANGER</td>\n",
       "      <td>Y</td>\n",
       "      <td>Y</td>\n",
       "      <td>FRESNO</td>\n",
       "    </tr>\n",
       "    <tr>\n",
       "      <th>33</th>\n",
       "      <td>7/23/2021</td>\n",
       "      <td>CA</td>\n",
       "      <td>ANIMAL</td>\n",
       "      <td>LOS ANGELES</td>\n",
       "      <td>Y</td>\n",
       "      <td>N</td>\n",
       "      <td>LA</td>\n",
       "    </tr>\n",
       "  </tbody>\n",
       "</table>\n",
       "</div>"
      ],
      "text/plain": [
       "                   DATE STATE      CODE         CITY STRANGER DEATH     COUNTY\n",
       "1             1/13/2022    KY  DROWNING          NaN      NaN   NaN        NaN\n",
       "16             7/3/2021    CA  DROWNING    SAN DIEGO        Y     N  SAN DIEGO\n",
       "17  2021-07-03 00:00:00    CA  DROWNING    SAN DIEGO        Y     N  SAN DIEGO\n",
       "27             6/9/2020    CA  DROWNING       SANGER        Y     Y     FRESNO\n",
       "33            7/23/2021    CA    ANIMAL  LOS ANGELES        Y     N         LA"
      ]
     },
     "execution_count": 64,
     "metadata": {},
     "output_type": "execute_result"
    }
   ],
   "source": [
    "options = ['KY', 'AK', 'CA']\n",
    "new_df = df[df['STATE'].isin(options)]\n",
    "new_df.head()"
   ]
  }
 ],
 "metadata": {
  "kernelspec": {
   "display_name": "Python 3.9.13 ('venv': venv)",
   "language": "python",
   "name": "python3"
  },
  "language_info": {
   "codemirror_mode": {
    "name": "ipython",
    "version": 3
   },
   "file_extension": ".py",
   "mimetype": "text/x-python",
   "name": "python",
   "nbconvert_exporter": "python",
   "pygments_lexer": "ipython3",
   "version": "3.9.13"
  },
  "orig_nbformat": 4,
  "vscode": {
   "interpreter": {
    "hash": "ba78f816ed15beac19f104cd725af58bebcc3cb02aace2d34fcc35c86a2b67c8"
   }
  }
 },
 "nbformat": 4,
 "nbformat_minor": 2
}
